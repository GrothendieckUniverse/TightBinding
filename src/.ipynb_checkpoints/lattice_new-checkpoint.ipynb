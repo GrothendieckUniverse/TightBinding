{
 "cells": [
  {
   "cell_type": "code",
   "execution_count": null,
   "id": "6ca54bc9-3d7a-4eaa-8bcb-ccf0aa671d8f",
   "metadata": {},
   "outputs": [],
   "source": [
    "module Lattice\n",
    "\n",
    "using LinearAlgebra\n",
    "using MLStyle\n",
    "using CairoMakie\n",
    "\n",
    "mutable struct Tight_Binding_Lattice{T}\n",
    "    name::String\n",
    "    dim::Int\n",
    "    sample_size::Vector{Int}\n",
    "    brav_vec_list::Vector{<:Vector{<:N}} where {N<:T} # bravias vectors for real-space lattice\n",
    "    brav_vec_mat::Matrix{<:N} where {N<:T} # bravias vectors as matrix for real-space lattice, stored in *rows* for convenience of matrix-vector multiplication, so that `brav_vec_list = brav_vec_mat * coef_vec`\n",
    "    cell_volume::T\n",
    "\n",
    "    nsite::Int\n",
    "    site_int_list::Vector{<:Vector{Int}}\n",
    "    twisted_phases_over_2π::Vector{<:Number}\n",
    "    site_crys_list::Vector{<:Vector{<:Number}}\n",
    "    site_cart_list::Vector{<:Vector{<:Number}}\n",
    "    site_complex_cart_list::Vector{Complex{<:Real}}\n",
    "    site_int_to_index_map::Dict{Vector{Int},Int}\n",
    "end\n",
    "\n",
    "\n",
    "\n",
    "end # end module"
   ]
  }
 ],
 "metadata": {
  "kernelspec": {
   "display_name": "Julia 1.11.6",
   "language": "julia",
   "name": "julia-1.11"
  },
  "language_info": {
   "file_extension": ".jl",
   "mimetype": "application/julia",
   "name": "julia",
   "version": "1.11.6"
  }
 },
 "nbformat": 4,
 "nbformat_minor": 5
}
